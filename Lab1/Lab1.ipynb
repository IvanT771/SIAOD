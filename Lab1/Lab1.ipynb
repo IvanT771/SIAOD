{
 "cells": [
  {
   "cell_type": "markdown",
   "metadata": {},
   "source": [
    "# Лабораторная работа №1. Методы сортировки.\n",
    "Князев И.В БВТ1904"
   ]
  },
  {
   "cell_type": "markdown",
   "metadata": {},
   "source": [
    "Задание:\n",
    "Реализовать заданный метод сортировки строк числовой матрицы в соответствии с индивидуальным заданием. Для всех вариантов добавить реализацию быстрой сортировки (quicksort). Оценить время работы каждого алгоритма сортировки и сравнить его со временем стандартной функции сортировки, используемой в выбранном языке программирования.\n"
   ]
  },
  {
   "cell_type": "markdown",
   "metadata": {},
   "source": [
    "# Сортировка выбором"
   ]
  },
  {
   "cell_type": "code",
   "execution_count": 15,
   "metadata": {},
   "outputs": [
    {
     "name": "stdout",
     "output_type": "stream",
     "text": [
      "0.00030231475830078125\n",
      "[1, 2, 3, 4, 5, 6, 7, 8, 9]\n"
     ]
    }
   ],
   "source": [
    "import time\n",
    "a = [1,6,3,9,8,2,4,7,5]\n",
    "\n",
    "#Сортировка выбором\n",
    "time_start = time.time()\n",
    "for i in range(0,len(a),1):\n",
    "     minIndex = i\n",
    "     for j in range(i+1,len(a),1):\n",
    "         if a[j] < a[minIndex]:\n",
    "             minIndex = j\n",
    "     buf = a[i]\n",
    "     a[i] = a[minIndex]\n",
    "     a[minIndex] = buf\n",
    "print(time.time() - time_start)\n",
    "print(a)"
   ]
  },
  {
   "cell_type": "markdown",
   "metadata": {},
   "source": [
    "# Сортировка вставкой"
   ]
  },
  {
   "cell_type": "code",
   "execution_count": 16,
   "metadata": {},
   "outputs": [
    {
     "name": "stdout",
     "output_type": "stream",
     "text": [
      "0.0002849102020263672\n",
      "[1, 2, 3, 4, 5, 6, 7, 8, 9]\n"
     ]
    }
   ],
   "source": [
    "#Сортировка вставкой\n",
    "time_start = time.time()\n",
    "for i in range(1,len(a),1):\n",
    "     buf = a[i]\n",
    "     j = i - 1\n",
    "     while j>=0 and a[j] > buf:\n",
    "         a[j+1] = a[j]\n",
    "         j=j-1\n",
    "     a[j+1] = buf\n",
    "print(time.time() - time_start)\n",
    "print(a)"
   ]
  },
  {
   "cell_type": "markdown",
   "metadata": {},
   "source": [
    "# Сортировка обменом"
   ]
  },
  {
   "cell_type": "code",
   "execution_count": 17,
   "metadata": {},
   "outputs": [
    {
     "name": "stdout",
     "output_type": "stream",
     "text": [
      "0.0006561279296875\n",
      "[1, 2, 3, 4, 5, 6, 7, 8, 9]\n"
     ]
    }
   ],
   "source": [
    "#Сортировка обменом\n",
    "time_start = time.time()\n",
    "for i in range(1,len(a),1):\n",
    "     for j in range(1,len(a)-1,1):\n",
    "         if a[j] > a[j+1]:\n",
    "             buf = a[j]\n",
    "             a[j] = a[j+1]\n",
    "             a[j+1] = buf\n",
    "print(time.time() - time_start)\n",
    "print(a)"
   ]
  },
  {
   "cell_type": "markdown",
   "metadata": {},
   "source": [
    "# Сортировка Шелла"
   ]
  },
  {
   "cell_type": "code",
   "execution_count": 18,
   "metadata": {},
   "outputs": [
    {
     "name": "stdout",
     "output_type": "stream",
     "text": [
      "0.0009393692016601562\n",
      "[1, 2, 3, 4, 5, 6, 7, 8, 9]\n"
     ]
    }
   ],
   "source": [
    "#Сортировка Шелла\n",
    "time_start = time.time()\n",
    "d=len(a)\n",
    "d=d//2\n",
    "while d>0:\n",
    "    for i in range(0,len(a)-d,1):\n",
    "        j=i\n",
    "        while j>=0 and a[j] > a[j+d]:\n",
    "            buf=a[j]\n",
    "            a[j]=a[j+d]\n",
    "            a[j+d]=buf\n",
    "            j=j-1\n",
    "    d=d//2\n",
    "print(time.time() - time_start)\n",
    "print(a)"
   ]
  },
  {
   "cell_type": "markdown",
   "metadata": {},
   "source": [
    "# Стандартная сортировка"
   ]
  },
  {
   "cell_type": "code",
   "execution_count": 19,
   "metadata": {},
   "outputs": [
    {
     "name": "stdout",
     "output_type": "stream",
     "text": [
      "0.0003066062927246094\n",
      "[1, 2, 3, 4, 5, 6, 7, 8, 9]\n"
     ]
    }
   ],
   "source": [
    "a = [1,6,3,9,8,2,4,7,5]\n",
    "time_start = time.time()\n",
    "a.sort()\n",
    "print(time.time() - time_start)\n",
    "print(a)"
   ]
  },
  {
   "cell_type": "markdown",
   "metadata": {},
   "source": [
    "# Вывод"
   ]
  },
  {
   "cell_type": "code",
   "execution_count": null,
   "metadata": {},
   "outputs": [],
   "source": [
    "По р"
   ]
  }
 ],
 "metadata": {
  "kernelspec": {
   "display_name": "Python 3",
   "language": "python",
   "name": "python3"
  },
  "language_info": {
   "codemirror_mode": {
    "name": "ipython",
    "version": 3
   },
   "file_extension": ".py",
   "mimetype": "text/x-python",
   "name": "python",
   "nbconvert_exporter": "python",
   "pygments_lexer": "ipython3",
   "version": "3.8.5"
  }
 },
 "nbformat": 4,
 "nbformat_minor": 4
}
