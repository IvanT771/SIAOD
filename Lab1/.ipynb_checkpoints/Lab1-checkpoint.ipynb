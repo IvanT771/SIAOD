{
 "cells": [
  {
   "cell_type": "markdown",
   "metadata": {},
   "source": [
    "# Лабораторная работа №1. Методы сортировки.\n",
    "Князев И.В БВТ1904"
   ]
  },
  {
   "cell_type": "markdown",
   "metadata": {},
   "source": [
    "Задание:\n",
    "Реализовать заданный метод сортировки строк числовой матрицы в соответствии с индивидуальным заданием. Для всех вариантов добавить реализацию быстрой сортировки (quicksort). Оценить время работы каждого алгоритма сортировки и сравнить его со временем стандартной функции сортировки, используемой в выбранном языке программирования.\n"
   ]
  },
  {
   "cell_type": "markdown",
   "metadata": {},
   "source": [
    "# Сортировка выбором"
   ]
  },
  {
   "cell_type": "code",
   "execution_count": 15,
   "metadata": {},
   "outputs": [
    {
     "name": "stdout",
     "output_type": "stream",
     "text": [
      "0.00030231475830078125\n",
      "[1, 2, 3, 4, 5, 6, 7, 8, 9]\n"
     ]
    }
   ],
   "source": [
    "import time\n",
    "a = [1,6,3,9,8,2,4,7,5]\n",
    "\n",
    "#Сортировка выбором\n",
    "time_start = time.time()\n",
    "for i in range(0,len(a),1):\n",
    "     minIndex = i\n",
    "     for j in range(i+1,len(a),1):\n",
    "         if a[j] < a[minIndex]:\n",
    "             minIndex = j\n",
    "     buf = a[i]\n",
    "     a[i] = a[minIndex]\n",
    "     a[minIndex] = buf\n",
    "print(time.time() - time_start)\n",
    "print(a)"
   ]
  },
  {
   "cell_type": "markdown",
   "metadata": {},
   "source": [
    "# Сортировка вставкой"
   ]
  },
  {
   "cell_type": "code",
   "execution_count": 16,
   "metadata": {},
   "outputs": [
    {
     "name": "stdout",
     "output_type": "stream",
     "text": [
      "0.0002849102020263672\n",
      "[1, 2, 3, 4, 5, 6, 7, 8, 9]\n"
     ]
    }
   ],
   "source": [
    "#Сортировка вставкой\n",
    "time_start = time.time()\n",
    "for i in range(1,len(a),1):\n",
    "     buf = a[i]\n",
    "     j = i - 1\n",
    "     while j>=0 and a[j] > buf:\n",
    "         a[j+1] = a[j]\n",
    "         j=j-1\n",
    "     a[j+1] = buf\n",
    "print(time.time() - time_start)\n",
    "print(a)"
   ]
  },
  {
   "cell_type": "markdown",
   "metadata": {},
   "source": [
    "# Сортировка обменом"
   ]
  },
  {
   "cell_type": "code",
   "execution_count": 17,
   "metadata": {},
   "outputs": [
    {
     "name": "stdout",
     "output_type": "stream",
     "text": [
      "0.0006561279296875\n",
      "[1, 2, 3, 4, 5, 6, 7, 8, 9]\n"
     ]
    }
   ],
   "source": [
    "#Сортировка обменом\n",
    "time_start = time.time()\n",
    "for i in range(1,len(a),1):\n",
    "     for j in range(1,len(a)-1,1):\n",
    "         if a[j] > a[j+1]:\n",
    "             buf = a[j]\n",
    "             a[j] = a[j+1]\n",
    "             a[j+1] = buf\n",
    "print(time.time() - time_start)\n",
    "print(a)"
   ]
  },
  {
   "cell_type": "markdown",
   "metadata": {},
   "source": [
    "# Сортировка Шелла"
   ]
  },
  {
   "cell_type": "code",
   "execution_count": 18,
   "metadata": {},
   "outputs": [
    {
     "name": "stdout",
     "output_type": "stream",
     "text": [
      "0.0009393692016601562\n",
      "[1, 2, 3, 4, 5, 6, 7, 8, 9]\n"
     ]
    }
   ],
   "source": [
    "#Сортировка Шелла\n",
    "time_start = time.time()\n",
    "d=len(a)\n",
    "d=d//2\n",
    "while d>0:\n",
    "    for i in range(0,len(a)-d,1):\n",
    "        j=i\n",
    "        while j>=0 and a[j] > a[j+d]:\n",
    "            buf=a[j]\n",
    "            a[j]=a[j+d]\n",
    "            a[j+d]=buf\n",
    "            j=j-1\n",
    "    d=d//2\n",
    "print(time.time() - time_start)\n",
    "print(a)"
   ]
  },
  {
   "cell_type": "markdown",
   "metadata": {},
   "source": [
    "# Стандартная сортировка"
   ]
  },
  {
   "cell_type": "code",
   "execution_count": 19,
   "metadata": {},
   "outputs": [
    {
     "name": "stdout",
     "output_type": "stream",
     "text": [
      "0.0003066062927246094\n",
      "[1, 2, 3, 4, 5, 6, 7, 8, 9]\n"
     ]
    }
   ],
   "source": [
    "a = [1,6,3,9,8,2,4,7,5]\n",
    "time_start = time.time()\n",
    "a.sort()\n",
    "print(time.time() - time_start)\n",
    "print(a)"
   ]
  },
  {
   "cell_type": "markdown",
   "metadata": {},
   "source": [
    "# Вывод"
   ]
  },
  {
   "cell_type": "markdown",
   "metadata": {},
   "source": [
    "По результатам проведенных замерений времени выполнения, самым эффективным оказался встроенный алгоритм сортировки."
   ]
  },
  {
   "cell_type": "markdown",
   "metadata": {},
   "source": [
    "## Задачи \n",
    "#### Задача 1.\n",
    "В Тридевятом Царстве уже много лет как установилась конституционная монархия. В парламент Тридевятого царства входят 26 партий, обозначаемых строчными буквами английского алфавита от «a» до «z». Заседание парламента в соответствии с регламентом проходит по следующей схеме:\n",
    "●\tВ начале заседания никаких законопроектов на повестке дня не стоит.\n",
    "●\tЛюбая партия (в том числе и та, которая внесла текущий законопроект) в любой момент времени может внести на обсуждение новый законопроект.\n",
    "●\tПри вносе партией нового законопроекта обсуждение предыдущего приостанавливается и начинается обсуждение нового. После того, как парламентарии голосуют за новый законопроект, обсуждение законопроекта, прерванного им, продолжается.\n",
    "●\tДискуссия по любому законопроекту обязана завершиться голосованием по этому законопроекту.\n",
    "●\tВ конце заседания не должно остаться внесённых законопроектов, дискуссия по которым не завершена.\n",
    "Вам дана запись о событиях на сессии парламента. Каждое событие является либо внесением нового законопроекта, либо голосованием за какой-то законопроект, причём в обоих случаях известен номер партии, этот законопроект предложившей. События даны в том порядке, в котором они происходили. Проверьте, может ли данная запись о событиях соответствовать какому-либо заседанию, удовлетворяющему порядку проведения, описанному выше.\n"
   ]
  },
  {
   "cell_type": "code",
   "execution_count": 2,
   "metadata": {},
   "outputs": [
    {
     "name": "stdout",
     "output_type": "stream",
     "text": [
      "Введите кол-во записей в журнале\n"
     ]
    },
    {
     "name": "stdin",
     "output_type": "stream",
     "text": [
      " 2\n",
      " dd\n",
      " dd\n"
     ]
    },
    {
     "name": "stdout",
     "output_type": "stream",
     "text": [
      "No\n"
     ]
    }
   ],
   "source": [
    "print(\"Введите кол-во записей в журнале\")\n",
    "def Serch():\n",
    "    N = int(input())\n",
    "    str = []\n",
    "\n",
    "    for i in range(0,N,1):\n",
    "        str.append(input()) #ввод истории открытия/закрытия законопроектов\n",
    "\n",
    "    begin = 0 #Точка выноса законопроекта на обсуждение\n",
    "    end = 0 #Точка заверешения законпроекта \n",
    "    _close = 0 #Кол-во открытых законопроект от партии\n",
    "    _open = 0 #Кол-во закрытых законопроект от партии\n",
    "    save = len(str)-1 #Предыдущий конец закрытого законопроекта (изначально это последний закон.проект)\n",
    "    while True:\n",
    "        if end >= len(str) or begin >= len(str):\n",
    "            if _open != _close:\n",
    "                return \"No\"\n",
    "            else:\n",
    "                return \"Yes\"\n",
    "        if end > save: #Если предыдущий законопроект завершен до завершения нового\n",
    "            return \"No\"\n",
    "        \n",
    "        number = str[begin][len(str[begin])-1] #Номер партии\n",
    "\n",
    "        if str[end].find(\"add \"+number) != -1:\n",
    "            _open = _open + 1 #Добавлен на обсуждение новый законопроект конкретной партией\n",
    "            \n",
    "        elif str[end].find(\"vote \"+number) != -1:\n",
    "            _close = _close+1 #Голосование законченно по поводу конкретноко закон.проект.\n",
    "            \n",
    "\n",
    "        if _close > _open: #Закрытых закон.проект. не может быть больше открытых\n",
    "            return \"NO\"\n",
    "        if _close == _open:\n",
    "            if end-begin == 1: #Если между началом голосования за зоконо. и концом нет других проектов\n",
    "                if len(str)-1 != save:\n",
    "                    begin = save+1\n",
    "                else:\n",
    "                    begin = end+1\n",
    "                save = len(str)-1 #Обнулеям \n",
    "            else:    \n",
    "                begin=begin+1\n",
    "                save = end\n",
    "            end = begin\n",
    "            _close = 0\n",
    "            _open = 0\n",
    "        else:\n",
    "            end=end+1\n",
    "\n",
    "    return \"No\"\n",
    "    \n",
    "print(Serch())"
   ]
  },
  {
   "cell_type": "code",
   "execution_count": null,
   "metadata": {},
   "outputs": [],
   "source": []
  }
 ],
 "metadata": {
  "kernelspec": {
   "display_name": "Python 3",
   "language": "python",
   "name": "python3"
  },
  "language_info": {
   "codemirror_mode": {
    "name": "ipython",
    "version": 3
   },
   "file_extension": ".py",
   "mimetype": "text/x-python",
   "name": "python",
   "nbconvert_exporter": "python",
   "pygments_lexer": "ipython3",
   "version": "3.8.5"
  }
 },
 "nbformat": 4,
 "nbformat_minor": 4
}
