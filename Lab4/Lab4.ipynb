{
 "cells": [
  {
   "cell_type": "markdown",
   "metadata": {},
   "source": [
    "# Лабораторная работа 4. Реализация стека/дека.\n",
    "Задача.\n",
    "Реализовать следующие структуры данных:\n",
    "\n",
    "● Стек (stack):\n",
    "операции для стека: инициализация, проверка на пустоту, добавление\n",
    "нового элемента в начало, извлечение элемента из начала;\n",
    "____\n",
    "● Дек (двусторонняя очередь, deque):\n",
    "операции для дека: инициализация, проверка на пустоту, добавление\n",
    "нового элемента в начало, добавление нового элемента в конец,\n",
    "извлечение элемента из начала, извлечение элемента из конца.\n",
    "Разработать программу обработки данных, содержащихся в заранее\n",
    "подготовленном txt-файле, в соответствии с заданиями, применив\n",
    "указанную в задании структуру данных. Результат работы программы\n",
    "вывести на экран и сохранить в отдельном txt-файле.\n",
    "____\n"
   ]
  },
  {
   "cell_type": "markdown",
   "metadata": {},
   "source": [
    "<a name=\"Stack\"></a>\n",
    "## Стек"
   ]
  },
  {
   "cell_type": "code",
   "execution_count": 58,
   "metadata": {},
   "outputs": [],
   "source": [
    "public class Stack\n",
    "{\n",
    "    private int currentIndex=0;\n",
    "    private int[] array;\n",
    "\n",
    "    public Stack(int size)\n",
    "    {\n",
    "        if (size <= 0) { size = 100;}\n",
    "        array = new int[size];\n",
    "        currentIndex = 0;\n",
    "    }\n",
    "\n",
    "    //Операция добавления элемента в стэк\n",
    "    public void Push(int args)\n",
    "    {\n",
    "        if (array.Length <= currentIndex) { Console.WriteLine(\"Stack full!!!\"); return; }\n",
    "\n",
    "        array[currentIndex] = args;\n",
    "        currentIndex++;\n",
    "    }\n",
    "\n",
    "    //Операция удаления последнего элемента\n",
    "    public void Delete()\n",
    "    {\n",
    "        if ((currentIndex-1) < 0) { Console.WriteLine(\"Stack is empty!\"); return; }\n",
    "        currentIndex--;\n",
    "    }\n",
    "\n",
    "    //Операция получения элемента\n",
    "    public int Peek()\n",
    "    {\n",
    "        if (currentIndex <= 0) { Console.WriteLine(\"Stack is empty!\");  return 0;}\n",
    "        return array[currentIndex-1];\n",
    "    }\n",
    "\n",
    "    //Операция получения элемента и его удаления\n",
    "    public int Pop()\n",
    "    {\n",
    "        if (currentIndex <= 0) { Console.WriteLine(\"Stack is empty!\"); return 0; }\n",
    "        currentIndex--;\n",
    "        return array[currentIndex];\n",
    "    }\n",
    "\n",
    "    //Операция получения размера стека\n",
    "    public int GetLength()\n",
    "    {\n",
    "        return currentIndex;\n",
    "    }\n",
    "\n",
    "    //Операция проверки на пустоту\n",
    "    public bool isEmpty()\n",
    "    {\n",
    "        if (currentIndex <= 0) { return true;}\n",
    "        return false;\n",
    "    }\n",
    "}"
   ]
  },
  {
   "cell_type": "code",
   "execution_count": 59,
   "metadata": {},
   "outputs": [
    {
     "name": "stdout",
     "output_type": "stream",
     "text": [
      "52\n",
      "5\n"
     ]
    }
   ],
   "source": [
    "//Проверка работоспособности стэка\n",
    "Stack stack = new Stack(2);\n",
    "\n",
    "stack.Push(5);\n",
    "stack.Push(52);\n",
    "\n",
    "Console.WriteLine(stack.Pop());\n",
    "Console.WriteLine(stack.Pop());"
   ]
  },
  {
   "cell_type": "markdown",
   "metadata": {},
   "source": [
    "<a name=\"Deque\"></a>\n",
    "## Дек"
   ]
  },
  {
   "cell_type": "code",
   "execution_count": 60,
   "metadata": {},
   "outputs": [],
   "source": [
    "public class Deque\n",
    "{\n",
    "    private int indexEnd = 0;\n",
    "    private int indexStart = 0;\n",
    "    private int[] array;\n",
    "\n",
    "    public Deque(int size)\n",
    "    {\n",
    "        if (size <= 0) { size = 100; }\n",
    "        array = new int[size];\n",
    "        indexEnd = 0;\n",
    "    }\n",
    "\n",
    "    //Операция добавления элемента в конец\n",
    "    public void PushEnd(int args)\n",
    "    {\n",
    "        if (array.Length <= (indexEnd)) { Console.WriteLine(\"Stack full!!!\"); return; }\n",
    "\n",
    "        array[indexEnd] = args;\n",
    "        indexEnd++;\n",
    "    }\n",
    "\n",
    "    //Операция добавления элемента в начало\n",
    "    public void PushStart(int args)\n",
    "    {\n",
    "        if (array.Length <= (indexEnd)) { Console.WriteLine(\"Stack full!!!\"); return; }\n",
    "      \n",
    "        for (int i = indexEnd; i>=1; i--)\n",
    "        {\n",
    "            array[i] = array[i-1];\n",
    "\n",
    "        }\n",
    "        \n",
    "        array[0] = args;  \n",
    "        indexEnd++;\n",
    "    }\n",
    "\n",
    "    //Операция удаления последнего элемента\n",
    "    public void DeleteEnd()\n",
    "    {\n",
    "        if (isEmpty()) { Console.WriteLine(\"Stack is empty!\"); return; }\n",
    "        indexEnd-=1;\n",
    "        indexEnd = Math.Max(0,indexEnd);\n",
    "    }\n",
    "\n",
    "    //Операция получения последнего элемента\n",
    "    public int GetEnd()\n",
    "    {\n",
    "        if (isEmpty()) { Console.WriteLine(\"Stack is empty!\"); return 0; }\n",
    "        indexEnd--;\n",
    "        return array[indexEnd];\n",
    "    }\n",
    "\n",
    "    //Операция получения первого элемента\n",
    "    public int GetStart()\n",
    "    {\n",
    "        if (isEmpty()) { Console.WriteLine(\"Stack is empty!\"); return 0; }\n",
    "\n",
    "        var buf= array[0];\n",
    "        for (int i = 0; i < array.Length-1; i++)\n",
    "        {\n",
    "            array[i] = array[i+1];\n",
    "        }\n",
    "        indexEnd--;\n",
    "        return buf;\n",
    "    }\n",
    "\n",
    "    public int GetLength()\n",
    "    {\n",
    "        return indexEnd;\n",
    "    }\n",
    "\n",
    "    //Операция проверки на пустоту\n",
    "    public bool isEmpty()\n",
    "    {\n",
    "        if (indexEnd-1 < 0) { return true; }\n",
    "        return false;\n",
    "    }\n",
    "}"
   ]
  },
  {
   "cell_type": "code",
   "execution_count": 61,
   "metadata": {},
   "outputs": [
    {
     "name": "stdout",
     "output_type": "stream",
     "text": [
      "22\n",
      "11\n",
      "56\n",
      "16\n",
      "5\n"
     ]
    }
   ],
   "source": [
    "//Проверка на работоспособность дека\n",
    "Deque deque = new Deque(5);\n",
    "deque.PushStart(16);\n",
    "deque.PushEnd(5);\n",
    "deque.PushEnd(22);\n",
    "deque.PushStart(56);\n",
    "deque.PushStart(11);\n",
    "\n",
    "Console.WriteLine(deque.GetEnd());\n",
    "Console.WriteLine(deque.GetStart());\n",
    "Console.WriteLine(deque.GetStart());\n",
    "Console.WriteLine(deque.GetStart());\n",
    "Console.WriteLine(deque.GetEnd());"
   ]
  },
  {
   "cell_type": "code",
   "execution_count": 62,
   "metadata": {},
   "outputs": [],
   "source": [
    "//Вспомогательный метод записи строки в обратном порядке\n",
    "public string ReverseStr(string str)\n",
    "{\n",
    "    var b = \"\";\n",
    "    for (int i = str.Length-1; i >= 0; i--)\n",
    "    {\n",
    "        b+=str[i];\n",
    "    }\n",
    "    return b;\n",
    "}"
   ]
  },
  {
   "cell_type": "markdown",
   "metadata": {},
   "source": [
    "____\n",
    "<a name = \"task6\"></a>\n",
    "### Задача 6\n",
    "Дан файл из символов. Используя стек, за один просмотр файла напечатать\n",
    "сначала все цифры, затем все буквы, и, наконец, все остальные символы, сохраняя\n",
    "исходный порядок в каждой группе символов."
   ]
  },
  {
   "cell_type": "code",
   "execution_count": 63,
   "metadata": {},
   "outputs": [
    {
     "name": "stdout",
     "output_type": "stream",
     "text": [
      "Результат: 2340945452kDSJNFsdjfndfnadfnascmv=-<<>>>//`~%^\n"
     ]
    },
    {
     "data": {
      "text/html": [
       "<null>"
      ]
     },
     "execution_count": 63,
     "metadata": {},
     "output_type": "execute_result"
    }
   ],
   "source": [
    "string txt = \"kDSJNF234sdjfn0945dfnadfn452=-<<>>>//`~%^ascmv\";//Исходная строка\n",
    "\n",
    "string path = \"text.txt\";//Путь к файлу\n",
    "\n",
    "//Для чтения из файла\n",
    "/*using (StreamReader f = new StreamReader(path))\n",
    "    {\n",
    "        txt = f.ReadToEnd();\n",
    "    }*/\n",
    "\n",
    "if (txt.Length <= 0) { Console.WriteLine(\"file isEmpty!\"); return;}\n",
    "\n",
    "Stack numbers = new Stack(txt.Length);\n",
    "Stack chars = new Stack(txt.Length);\n",
    "Stack other = new Stack(txt.Length);\n",
    "\n",
    "for (int i = 0; i < txt.Length; i++)\n",
    "{\n",
    "    if(txt[i]>='0' && txt[i]<='9')\n",
    "    {\n",
    "        numbers.Push(txt[i]);\n",
    "    }\n",
    "    else if((txt[i]>= 'a' && txt[i]<= 'z') || (txt[i] >= 'A' && txt[i] <= 'Z'))\n",
    "    {\n",
    "        chars.Push(txt[i]);\n",
    "    }\n",
    "    else\n",
    "    {\n",
    "        other.Push(txt[i]);\n",
    "    }\n",
    "}\n",
    "\n",
    "string result = \"\";\n",
    "string buf = \"\";\n",
    "while (!numbers.isEmpty())\n",
    "{\n",
    "    buf += (char)numbers.Pop();\n",
    "}\n",
    "\n",
    "result+=ReverseStr(buf);\n",
    "buf = \"\";\n",
    "\n",
    "while (!chars.isEmpty())\n",
    "{\n",
    "    buf += (char)chars.Pop();\n",
    "}\n",
    "\n",
    "result += ReverseStr(buf);\n",
    "buf = \"\";\n",
    "\n",
    "while (!other.isEmpty())\n",
    "{\n",
    "    buf += (char)other.Pop();\n",
    "}\n",
    "\n",
    "result += ReverseStr(buf);\n",
    "buf = \"\";\n",
    "\n",
    "Console.WriteLine(\"Результат: \"+result);"
   ]
  },
  {
   "cell_type": "markdown",
   "metadata": {},
   "source": [
    "____\n",
    "<a name=\"task4\"></a>\n",
    "### Задача 4\n",
    "Дан текстовый файл с программой на алгоритмическом языке. За один просмотр\n",
    "файла проверить баланс круглых скобок в тексте, используя стек."
   ]
  },
  {
   "cell_type": "code",
   "execution_count": 64,
   "metadata": {},
   "outputs": [
    {
     "name": "stdout",
     "output_type": "stream",
     "text": [
      "Баланс скобок НЕ нарушен!\n"
     ]
    },
    {
     "data": {
      "text/html": [
       "<null>"
      ]
     },
     "execution_count": 64,
     "metadata": {},
     "output_type": "execute_result"
    }
   ],
   "source": [
    "string path = \"T4.txt\";//Путь к файлу\n",
    "\n",
    "string txt = \"LKFDm(())asd()asd((d(dddd)d))\";//Исходная строка\n",
    "\n",
    "//Для чтения из файла (если нужно)\n",
    "/*using (StreamReader f = new StreamReader(path))\n",
    "{\n",
    "    txt = f.ReadToEnd();\n",
    "}*/\n",
    "\n",
    "if (txt.Length <= 0) { Console.WriteLine(\"file isEmpty!\"); return; }\n",
    "\n",
    "Stack stack = new Stack(txt.Length);\n",
    "\n",
    "for (int i = 0; i < txt.Length; i++)\n",
    "{\n",
    "    if(txt[i] == '(' || txt[i] == ')')\n",
    "    {\n",
    "        stack.Push(txt[i]);\n",
    "    }\n",
    "}\n",
    "\n",
    "int open = 0;\n",
    "int close = 0;\n",
    "\n",
    "while (!stack.isEmpty())\n",
    "{\n",
    "\n",
    "    if ((char)stack.Pop() == '(')\n",
    "    {\n",
    "        close++;\n",
    "    }\n",
    "    else\n",
    "    {\n",
    "        open++;\n",
    "    }\n",
    "\n",
    "    if (close > open)\n",
    "    {                    \n",
    "        break;\n",
    "    }\n",
    "\n",
    "}\n",
    "\n",
    "if (close != open)\n",
    "{\n",
    "\n",
    "    Console.WriteLine(\"Баланс скобок нарушен!\");\n",
    "}\n",
    "else\n",
    "{\n",
    "    Console.WriteLine(\"Баланс скобок НЕ нарушен!\");\n",
    "}"
   ]
  },
  {
   "cell_type": "markdown",
   "metadata": {},
   "source": [
    "____\n",
    "<a name=\"task5\"></a>\n",
    "### Задача 5\n",
    "Дан текстовый файл с программой на алгоритмическом языке. За один просмотр\n",
    "файла проверить баланс квадратных скобок в тексте, используя дек."
   ]
  },
  {
   "cell_type": "code",
   "execution_count": 65,
   "metadata": {},
   "outputs": [
    {
     "name": "stdout",
     "output_type": "stream",
     "text": [
      "Баланс скобок НЕ нарушен!\n"
     ]
    },
    {
     "data": {
      "text/html": [
       "<null>"
      ]
     },
     "execution_count": 65,
     "metadata": {},
     "output_type": "execute_result"
    }
   ],
   "source": [
    "string path = \"T5.txt\";\n",
    "\n",
    "string txt = \"sdkfjm[sdf][sdfsdf[[[sdf]]]]sfgh[sdf]\"; //Исходная строка\n",
    "\n",
    "//Для чтения из файла (если нужно)\n",
    "/*using (StreamReader f = new StreamReader(path))\n",
    "{\n",
    "    txt = f.ReadToEnd();\n",
    "}*/\n",
    "\n",
    "if (txt.Length <= 0) { Console.WriteLine(\"file isEmpty!\"); return; }\n",
    "\n",
    "Deque stack = new Deque(txt.Length);\n",
    "\n",
    "for (int i = 0; i < txt.Length; i++)\n",
    "{\n",
    "    if (txt[i] == '[' || txt[i] == ']')\n",
    "    {\n",
    "        stack.PushEnd(txt[i]);\n",
    "    }\n",
    "\n",
    "}\n",
    "\n",
    "int open = 0;\n",
    "int close = 0;\n",
    "\n",
    "while (!stack.isEmpty())\n",
    "{\n",
    "\n",
    "    if ((char)stack.GetEnd() == '[')\n",
    "    {\n",
    "        close++;\n",
    "    }\n",
    "    else\n",
    "    {\n",
    "        open++;\n",
    "    }\n",
    "\n",
    "    if (close > open)\n",
    "    {\n",
    "        break;\n",
    "    }\n",
    "\n",
    "}\n",
    "\n",
    "if (close != open)\n",
    "{\n",
    "\n",
    "    Console.WriteLine(\"Баланс скобок нарушен!\");\n",
    "}\n",
    "else\n",
    "{\n",
    "    Console.WriteLine(\"Баланс скобок НЕ нарушен!\");\n",
    "}"
   ]
  },
  {
   "cell_type": "code",
   "execution_count": null,
   "metadata": {},
   "outputs": [],
   "source": []
  }
 ],
 "metadata": {
  "kernelspec": {
   "display_name": ".NET (C#)",
   "language": "C#",
   "name": ".net-csharp"
  },
  "language_info": {
   "file_extension": ".cs",
   "mimetype": "text/x-csharp",
   "name": "C#",
   "pygments_lexer": "csharp",
   "version": "8.0"
  }
 },
 "nbformat": 4,
 "nbformat_minor": 4
}
