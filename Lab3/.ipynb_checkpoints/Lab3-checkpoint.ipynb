{
 "cells": [
  {
   "cell_type": "markdown",
   "metadata": {},
   "source": [
    "# Лабораторная работа 3. Методы поиска подстроки в строке. \n",
    "## Алгоритмы:\n",
    "1.Кнута-Морриса-Пратта\n",
    "\n",
    "2.Упрощенный Бойера-Мура\n",
    "\n",
    "### Подключение библиотек.\n"
   ]
  },
  {
   "cell_type": "code",
   "execution_count": 12,
   "metadata": {},
   "outputs": [],
   "source": [
    "using System;"
   ]
  },
  {
   "cell_type": "markdown",
   "metadata": {},
   "source": [
    "## Алгоритм Кнута-Морриса-Пратта."
   ]
  },
  {
   "cell_type": "code",
   "execution_count": 13,
   "metadata": {},
   "outputs": [],
   "source": [
    "//Получение префикса\n",
    "public int[] GetPrefix(string s)\n",
    "{\n",
    "    int[] result = new int[s.Length];\n",
    "    result[0] = 0;\n",
    "    int index = 0;\n",
    "\n",
    "    for (int i = 1; i < s.Length; i++)\n",
    "    {\n",
    "        while (index >= 0 && s[index] != s[i]) { index--; }\n",
    "        index++;\n",
    "        result[i] = index;\n",
    "    }\n",
    "\n",
    "    return result;\n",
    "}\n",
    "\n",
    "//Метод поиска строки\n",
    "public int FindSubstring(string pattern, string text, out float time)\n",
    "{\n",
    "    System.Diagnostics.Stopwatch myStopwatch = new System.Diagnostics.Stopwatch();\n",
    "    myStopwatch.Start();\n",
    "\n",
    "    int[] pf = GetPrefix(pattern);\n",
    "    int index = 0;\n",
    "\n",
    "    for (int i = 0; i < text.Length; i++)\n",
    "    {\n",
    "        while (index > 0 && pattern[index] != text[i]) { index = pf[index - 1]; }\n",
    "        if (pattern[index] == text[i]) index++;\n",
    "        if (index == pattern.Length)\n",
    "        {\n",
    "            myStopwatch.Stop();\n",
    "            time = myStopwatch.ElapsedMilliseconds;\n",
    "            return (i - index + 1);\n",
    "        }\n",
    "    }\n",
    "    myStopwatch.Stop();\n",
    "    time = myStopwatch.ElapsedMilliseconds;\n",
    "\n",
    "    return -1;\n",
    "}\n"
   ]
  },
  {
   "cell_type": "markdown",
   "metadata": {},
   "source": [
    "## Алгоритм упрощенный Бойера-Мура."
   ]
  },
  {
   "cell_type": "code",
   "execution_count": 14,
   "metadata": {},
   "outputs": [],
   "source": [
    "public static int[] tableshift;\n",
    "\n",
    "///<summary>Составление таблицы смещений</summary>\n",
    "///<param name=\"readtemplate\">Введнный шаблон</param>\n",
    "public static void TableShift(string readtemplate)\n",
    "{\n",
    "    tableshift = new int[char.MaxValue];\n",
    "\n",
    "    for (int i = 0; i < tableshift.Length; i++)\n",
    "    {\n",
    "        tableshift[i] = readtemplate.Length;\n",
    "    }\n",
    "\n",
    "    for (int i = 0; i < readtemplate.Length; i++)\n",
    "    {\n",
    "        tableshift[readtemplate[i]] = readtemplate.Length - i;\n",
    "    }\n",
    "}\n",
    "\n",
    "///<summary>Собственно, сам алгоритма Бойера-Мура</summary>\n",
    "///<param name=\"text\">Введенная исходная строка</param>\n",
    "///<param name=\"pattern\">Введенный шаблон</param>\n",
    "///<param name=\"sensitivity\">Чувствительность к регистру</param>\n",
    "///<param name=\"time\">Время работы алгоритма</param>\n",
    "public static int BoyerMoore(string pattern, string text, out float time)\n",
    "{\n",
    "    var source = text;\n",
    "    var template = pattern;\n",
    "\n",
    "    System.Diagnostics.Stopwatch myStopwatch = new System.Diagnostics.Stopwatch();\n",
    "    myStopwatch.Start();\n",
    "\n",
    "\n",
    "    TableShift(template); //инициализация таблици\n",
    "\n",
    "    if (template.Length > source.Length)\n",
    "    {\n",
    "        time = 0;\n",
    "        return -1;\n",
    "    }\n",
    "\n",
    "    if (template == source)\n",
    "    {\n",
    "        Console.WriteLine(\"Шаблон и исходная строка равны\");\n",
    "        time = 0;\n",
    "        return -1;\n",
    "    }\n",
    "\n",
    "    for (int i = template.Length; i < source.Length + 1;)                        \n",
    "    {\n",
    "        for (int j = template.Length - 1; j >= 0; j--)                          \n",
    "        {\n",
    "            if (template[j] == source[i - template.Length + j])                   \n",
    "            {\n",
    "                if (j == 0)                                                      \n",
    "                {\n",
    "\n",
    "                    myStopwatch.Stop();\n",
    "                    time = myStopwatch.ElapsedMilliseconds;\n",
    "                    return ((i - template.Length));\n",
    "                }\n",
    "            }\n",
    "            else\n",
    "            {\n",
    "                i += tableshift[source[i]];\n",
    "                break;\n",
    "            }\n",
    "        }\n",
    "    }\n",
    "    myStopwatch.Stop();\n",
    "    time = myStopwatch.ElapsedMilliseconds;\n",
    "    return -1;\n",
    "}"
   ]
  },
  {
   "cell_type": "markdown",
   "metadata": {},
   "source": [
    "## Итоги"
   ]
  },
  {
   "cell_type": "code",
   "execution_count": 15,
   "metadata": {},
   "outputs": [
    {
     "name": "stdout",
     "output_type": "stream",
     "text": [
      "\n",
      "---------------------------------\n",
      "Алгоритм Кнута-Морриса-Пратта\n",
      "Индекс первого вхождения: 6\n",
      "Время работы алгоритма: 0ms\n",
      "\n",
      "---------------------------------\n",
      "Алгоритм Бойера-Мура\n",
      "Индекс первого вхождения: 6\n",
      "Время работы алгоритма: 0ms\n"
     ]
    }
   ],
   "source": [
    "string text = \"Hello world\"; //Исходная строка\n",
    "string pattern = \"world\"; //Подстрока\n",
    "bool register = false; //Чувствительность к регистру\n",
    "\n",
    "if (!register) //Если строка не чувст. к регистру, приводим строку и подстроку к одному решистру\n",
    "{\n",
    "    text = text.ToLower();\n",
    "    pattern = pattern.ToLower();\n",
    "}\n",
    "\n",
    "float timeWorck = 0; //Хранит время работы алгоритма\n",
    "\n",
    "Console.WriteLine(\"\");\n",
    "Console.WriteLine(\"---------------------------------\");\n",
    "Console.WriteLine(\"Алгоритм Кнута-Морриса-Пратта\");\n",
    "Console.WriteLine(\"Индекс первого вхождения: \" + FindSubstring(pattern,text,out timeWorck));\n",
    "Console.WriteLine(\"Время работы алгоритма: \"+timeWorck+\"ms\");\n",
    "\n",
    "Console.WriteLine(\"\");\n",
    "Console.WriteLine(\"---------------------------------\");\n",
    "Console.WriteLine(\"Алгоритм Бойера-Мура\");\n",
    "Console.WriteLine(\"Индекс первого вхождения: \" + BoyerMoore(pattern, text, out timeWorck));\n",
    "Console.WriteLine(\"Время работы алгоритма: \" + timeWorck + \"ms\");"
   ]
  },
  {
   "cell_type": "markdown",
   "metadata": {},
   "source": [
    "____\n",
    "## ЗАДАЧА 2\n",
    "Дана строка s, вернуть самую длинную полиндромную подстроку в s."
   ]
  },
  {
   "cell_type": "code",
   "execution_count": 21,
   "metadata": {},
   "outputs": [
    {
     "name": "stdout",
     "output_type": "stream",
     "text": [
      "bab\n",
      "bb\n",
      "\n"
     ]
    }
   ],
   "source": [
    "public string GetMaxPalindromeString(string testingString)\n",
    "    {\n",
    "        int stringLength = testingString.Length;\n",
    "        int maxPalindromeStringLength = 0;\n",
    "        int maxPalindromeStringStartIndex = 0;\n",
    "\n",
    "        for (int i = 0; i < testingString.Length; i++)\n",
    "        {\n",
    "            int currentCharIndex = i;\n",
    "\n",
    "            for (int lastCharIndex = stringLength - 1; lastCharIndex > currentCharIndex; lastCharIndex--)\n",
    "            {\n",
    "                bool isPalindrome = true;\n",
    "\n",
    "                if (testingString[currentCharIndex] != testingString[lastCharIndex])\n",
    "                {\n",
    "                    continue;\n",
    "                }\n",
    "\n",
    "                for (int nextCharIndex = currentCharIndex + 1; nextCharIndex < lastCharIndex / 2; nextCharIndex++)\n",
    "                {\n",
    "                    if (testingString[nextCharIndex] != testingString[lastCharIndex - 1])\n",
    "                    {\n",
    "                        isPalindrome = false;\n",
    "                        break;\n",
    "                    }\n",
    "                }\n",
    "\n",
    "                if (isPalindrome)\n",
    "                {\n",
    "                    if (lastCharIndex + 1 - currentCharIndex > maxPalindromeStringLength)\n",
    "                    {\n",
    "                        maxPalindromeStringStartIndex = currentCharIndex;\n",
    "                        maxPalindromeStringLength = lastCharIndex + 1 - currentCharIndex;\n",
    "                    }\n",
    "                }\n",
    "                break;\n",
    "            }\n",
    "        }\n",
    "\n",
    "        return testingString.Substring(maxPalindromeStringStartIndex, maxPalindromeStringLength);\n",
    "    }\n",
    "\n",
    "//Вывод результата\n",
    "Console.WriteLine(GetMaxPalindromeString(\"babad\"));\n",
    "Console.WriteLine(GetMaxPalindromeString(\"cbbd\"));\n",
    "Console.WriteLine(GetMaxPalindromeString(\"abc\"));"
   ]
  },
  {
   "cell_type": "code",
   "execution_count": null,
   "metadata": {},
   "outputs": [],
   "source": []
  }
 ],
 "metadata": {
  "kernelspec": {
   "display_name": ".NET (C#)",
   "language": "C#",
   "name": ".net-csharp"
  },
  "language_info": {
   "file_extension": ".cs",
   "mimetype": "text/x-csharp",
   "name": "C#",
   "pygments_lexer": "csharp",
   "version": "8.0"
  }
 },
 "nbformat": 4,
 "nbformat_minor": 4
}
